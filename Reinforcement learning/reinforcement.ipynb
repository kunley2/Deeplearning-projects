{
  "nbformat": 4,
  "nbformat_minor": 0,
  "metadata": {
    "colab": {
      "name": "reinforcement.ipynb",
      "provenance": []
    },
    "kernelspec": {
      "name": "python3",
      "display_name": "Python 3"
    },
    "language_info": {
      "name": "python"
    }
  },
  "cells": [
    {
      "cell_type": "code",
      "execution_count": null,
      "metadata": {
        "id": "h7vEe1vpOaWa"
      },
      "outputs": [],
      "source": [
        "import gym\n",
        "import numpy as np\n",
        "import matplotlib.pyplot as plt\n",
        "import time"
      ]
    },
    {
      "cell_type": "code",
      "source": [
        "env = gym.make('FrozenLake-v0') # we using the frozen lake as our environment\n",
        "STATES = env.observation_space.n # setting our state\n",
        "ACTION = env.action_space.n # setting the action\n",
        "print(STATES)\n",
        "print(ACTION)"
      ],
      "metadata": {
        "colab": {
          "base_uri": "https://localhost:8080/"
        },
        "id": "NbFS2jWAOlt2",
        "outputId": "8c8dd0a7-2452-4128-aadd-be1bef553b5d"
      },
      "execution_count": null,
      "outputs": [
        {
          "output_type": "stream",
          "name": "stdout",
          "text": [
            "16\n",
            "4\n"
          ]
        }
      ]
    },
    {
      "cell_type": "code",
      "source": [
        "learning_rate = 0.75\n",
        "discount = 0.90\n",
        "q = np.zeros((STATES,ACTION)) # creating our q table\n",
        "print(q)"
      ],
      "metadata": {
        "colab": {
          "base_uri": "https://localhost:8080/"
        },
        "id": "Q7ZGNegqPsz1",
        "outputId": "206bb26e-0435-43ea-980e-c18a795481d4"
      },
      "execution_count": null,
      "outputs": [
        {
          "output_type": "stream",
          "name": "stdout",
          "text": [
            "[[0. 0. 0. 0.]\n",
            " [0. 0. 0. 0.]\n",
            " [0. 0. 0. 0.]\n",
            " [0. 0. 0. 0.]\n",
            " [0. 0. 0. 0.]\n",
            " [0. 0. 0. 0.]\n",
            " [0. 0. 0. 0.]\n",
            " [0. 0. 0. 0.]\n",
            " [0. 0. 0. 0.]\n",
            " [0. 0. 0. 0.]\n",
            " [0. 0. 0. 0.]\n",
            " [0. 0. 0. 0.]\n",
            " [0. 0. 0. 0.]\n",
            " [0. 0. 0. 0.]\n",
            " [0. 0. 0. 0.]\n",
            " [0. 0. 0. 0.]]\n"
          ]
        }
      ]
    },
    {
      "cell_type": "code",
      "source": [
        "# amount of time to run the environment from the beginning\n",
        "episode = 1500\n",
        "# amount of steps to take for each environment run\n",
        "max_steps = 100\n",
        "rewards = []\n",
        "epilson = 0.9\n",
        "print(env.reset())"
      ],
      "metadata": {
        "colab": {
          "base_uri": "https://localhost:8080/"
        },
        "id": "qhuWVd2mQOYJ",
        "outputId": "25b808d0-652c-4de4-d06a-7d68818b3cc3"
      },
      "execution_count": null,
      "outputs": [
        {
          "output_type": "stream",
          "name": "stdout",
          "text": [
            "0\n"
          ]
        }
      ]
    },
    {
      "cell_type": "code",
      "source": [
        "for ep in range(episode):\n",
        "  state = env.reset()\n",
        "  for no in range(max_steps):\n",
        "    if np.random.uniform(0,1) < epilson:\n",
        "      action = env.action_space.sample() # creates a random action\n",
        "    else:\n",
        "      action = np.argmax(q[state,:])\n",
        "    next_state, reward, done,info = env.step(action) # robot will take that action\n",
        "    q[state,action] = q[state,action] + learning_rate *(reward + discount * np.max(q[next_state,:])- q[state,action]) # updating the q values for every action\n",
        "    state = next_state\n",
        "    if done:\n",
        "      rewards.append(reward)\n",
        "      epilson-=0.001\n",
        "      break\n",
        "print(q)"
      ],
      "metadata": {
        "colab": {
          "base_uri": "https://localhost:8080/"
        },
        "id": "JO6bN97mSDdH",
        "outputId": "70f439d3-350d-46ef-8589-29c0fa8efead"
      },
      "execution_count": null,
      "outputs": [
        {
          "output_type": "stream",
          "name": "stdout",
          "text": [
            "[[6.22564577e-02 2.66863872e-03 2.88433580e-03 2.86021739e-03]\n",
            " [3.61377025e-04 5.94208335e-04 2.64794459e-04 7.32336728e-02]\n",
            " [5.72999541e-02 1.94123519e-04 1.63893009e-04 2.09945497e-04]\n",
            " [2.03784822e-04 6.01387073e-05 1.67892780e-04 1.93636152e-04]\n",
            " [9.61619025e-02 3.61974083e-03 1.47704403e-03 1.91080716e-03]\n",
            " [0.00000000e+00 0.00000000e+00 0.00000000e+00 0.00000000e+00]\n",
            " [1.62193178e-05 8.36791713e-06 1.13096548e-02 5.47845373e-06]\n",
            " [0.00000000e+00 0.00000000e+00 0.00000000e+00 0.00000000e+00]\n",
            " [4.22291624e-03 6.69794032e-03 8.59728750e-03 3.72327525e-01]\n",
            " [2.74460898e-03 2.02704307e-01 9.82037227e-03 4.93571062e-03]\n",
            " [3.45951502e-01 2.38259290e-03 5.97651058e-03 4.91778270e-03]\n",
            " [0.00000000e+00 0.00000000e+00 0.00000000e+00 0.00000000e+00]\n",
            " [0.00000000e+00 0.00000000e+00 0.00000000e+00 0.00000000e+00]\n",
            " [6.03917489e-03 2.66929840e-02 2.90954777e-01 3.28681225e-02]\n",
            " [1.09597564e-01 8.59546225e-01 9.09945751e-02 1.08553072e-01]\n",
            " [0.00000000e+00 0.00000000e+00 0.00000000e+00 0.00000000e+00]]\n"
          ]
        }
      ]
    },
    {
      "cell_type": "code",
      "source": [
        "print(len(rewards))"
      ],
      "metadata": {
        "colab": {
          "base_uri": "https://localhost:8080/"
        },
        "id": "AEP-rxtZW0na",
        "outputId": "9828e472-440f-4477-e363-dbc12aa6c243"
      },
      "execution_count": null,
      "outputs": [
        {
          "output_type": "stream",
          "name": "stdout",
          "text": [
            "1500\n"
          ]
        }
      ]
    },
    {
      "cell_type": "code",
      "source": [
        "values=[]\n",
        "def average_val(value):\n",
        "  return sum(value)/len(value)\n",
        "\n",
        "\n",
        "for i in range(0,len(rewards),100):\n",
        "   values.append(average_val(rewards[i:i+100]))\n",
        "plt.plot(values)\n",
        "plt.ylabel('average reward')\n",
        "plt.xlabel('episode (100/)')"
      ],
      "metadata": {
        "colab": {
          "base_uri": "https://localhost:8080/",
          "height": 296
        },
        "id": "JG8xqGmNZZPP",
        "outputId": "d6e645b6-2563-4c7b-dbf4-a27496e90c1b"
      },
      "execution_count": null,
      "outputs": [
        {
          "output_type": "execute_result",
          "data": {
            "text/plain": [
              "Text(0.5, 0, 'episode (100/)')"
            ]
          },
          "metadata": {},
          "execution_count": 31
        },
        {
          "output_type": "display_data",
          "data": {
            "image/png": "[encoded data removed]",
            "text/plain": [
              "<Figure size 432x288 with 1 Axes>"
            ]
          },
          "metadata": {
            "needs_background": "light"
          }
        }
      ]
    },
    {
      "cell_type": "code",
      "source": [
        "rewards"
      ],
      "metadata": {
        "id": "qqVHZYkJbe7n"
      },
      "execution_count": null,
      "outputs": []
    },
    {
      "cell_type": "code",
      "source": [
        ""
      ],
      "metadata": {
        "id": "hGVU3uSlbtKo"
      },
      "execution_count": null,
      "outputs": []
    }
  ]
}